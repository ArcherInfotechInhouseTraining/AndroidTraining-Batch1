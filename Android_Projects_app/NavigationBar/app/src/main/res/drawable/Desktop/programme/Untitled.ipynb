{
 "cells": [
  {
   "cell_type": "code",
   "execution_count": 149,
   "id": "b8e772f1",
   "metadata": {},
   "outputs": [],
   "source": [
    "def student(a1,b1):\n",
    "    a=a1\n",
    "    b=b1\n",
    "    c=a+b\n",
    "    return c"
   ]
  },
  {
   "cell_type": "code",
   "execution_count": 150,
   "id": "22d10229",
   "metadata": {},
   "outputs": [],
   "source": [
    "def school(c1,d1):\n",
    "    x=c1\n",
    "    y=d1\n",
    "    d=student(30,20)\n",
    "    e=d+x+y\n",
    "    return e"
   ]
  },
  {
   "cell_type": "code",
   "execution_count": 151,
   "id": "e37cdf9d",
   "metadata": {},
   "outputs": [],
   "source": [
    "def tushar(e1,f1):\n",
    "    p=e1\n",
    "    q=f1\n",
    "    f=student(10,30)\n",
    "    g=school(50,70)\n",
    "    h=f+g+p+q\n",
    "    print(h)"
   ]
  },
  {
   "cell_type": "code",
   "execution_count": 152,
   "id": "b27f541f",
   "metadata": {},
   "outputs": [
    {
     "name": "stdout",
     "output_type": "stream",
     "text": [
      "220\n"
     ]
    }
   ],
   "source": [
    "tushar(4,6)"
   ]
  },
  {
   "cell_type": "code",
   "execution_count": 58,
   "id": "ef2efed6",
   "metadata": {},
   "outputs": [],
   "source": [
    "name=['shradha', 'sonali', 'priyanka', 'rohit', 'tushar', 'kiran']\n",
    "def girls():\n",
    "    l1=[]\n",
    "    p=[\"shradha\",\"sonali\",\"priyanka\"]\n",
    "    for x in p:\n",
    "        l1.append(x)\n",
    "    return l1\n",
    "def boys():\n",
    "    l2=[]\n",
    "    q=[\"rohit\",\"tushar\",\"kiran\"]\n",
    "    for y in q:\n",
    "        l2.append(y)\n",
    "    return l2\n",
    "def students():\n",
    "    a=girls()\n",
    "    b=boys()\n",
    "    c=a+b\n",
    "    girls_hostel=[]\n",
    "    boys_hostel=[]\n",
    "    girls_hostel.append(a)\n",
    "    boys_hostel.append(b)\n",
    "    print(\"all students=\",c)\n",
    "    print(\"girls hostel=\",girls_hostel)\n",
    "    print(\"boys hostel=\",boys_hostel)\n",
    "        "
   ]
  },
  {
   "cell_type": "code",
   "execution_count": 59,
   "id": "cd2e3681",
   "metadata": {},
   "outputs": [
    {
     "name": "stdout",
     "output_type": "stream",
     "text": [
      "all students= ['shradha', 'sonali', 'priyanka', 'rohit', 'tushar', 'kiran']\n",
      "girls hostel= [['shradha', 'sonali', 'priyanka']]\n",
      "boys hostel= [['rohit', 'tushar', 'kiran']]\n"
     ]
    }
   ],
   "source": [
    "students()"
   ]
  },
  {
   "cell_type": "code",
   "execution_count": 45,
   "id": "938a4af5",
   "metadata": {},
   "outputs": [],
   "source": [
    "def girls():\n",
    "    a=[]\n",
    "    g=[\"tanuja\",\"pooja\",\"amruta\"]\n",
    "    for x in g:\n",
    "        a.append(x)\n",
    "    return a\n",
    "def boys():\n",
    "    b2=[]\n",
    "    b=[\"tushar\",\"omkar\",\"kiran\"]\n",
    "    for y in b:\n",
    "        b2.append(y)\n",
    "    return b2\n",
    "def all():\n",
    "#     oth=[]\n",
    "    x=boys()\n",
    "    y=girls()\n",
    "    z=x+y\n",
    "#     oth.append(z)\n",
    "    print(z)\n",
    "    \n",
    "        "
   ]
  },
  {
   "cell_type": "code",
   "execution_count": 46,
   "id": "b0f9d2d0",
   "metadata": {},
   "outputs": [
    {
     "name": "stdout",
     "output_type": "stream",
     "text": [
      "['tushar', 'omkar', 'kiran', 'tanuja', 'pooja', 'amruta']\n"
     ]
    }
   ],
   "source": [
    "all()"
   ]
  },
  {
   "cell_type": "code",
   "execution_count": null,
   "id": "1ed7de6b",
   "metadata": {},
   "outputs": [],
   "source": []
  }
 ],
 "metadata": {
  "kernelspec": {
   "display_name": "Python 3 (ipykernel)",
   "language": "python",
   "name": "python3"
  },
  "language_info": {
   "codemirror_mode": {
    "name": "ipython",
    "version": 3
   },
   "file_extension": ".py",
   "mimetype": "text/x-python",
   "name": "python",
   "nbconvert_exporter": "python",
   "pygments_lexer": "ipython3",
   "version": "3.9.12"
  }
 },
 "nbformat": 4,
 "nbformat_minor": 5
}
