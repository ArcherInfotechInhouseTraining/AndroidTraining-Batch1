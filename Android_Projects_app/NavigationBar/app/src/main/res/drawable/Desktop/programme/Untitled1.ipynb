{
 "cells": [
  {
   "cell_type": "code",
   "execution_count": 14,
   "id": "757b1874",
   "metadata": {},
   "outputs": [],
   "source": [
    "def tushar(a,b):\n",
    "    a=int(input(\"a=\"))\n",
    "    b=int(input(\"b=\"))\n",
    "    c=a+b\n",
    "    print(c)\n",
    "    return c\n",
    "def rohit():\n",
    "#     e=int(input(\"e=\"))\n",
    "#     f=int(input(\"f=\"))\n",
    "    d=tushar(10,11)\n",
    "    g=d*20\n",
    "    print(d)\n",
    "    print(g)"
   ]
  },
  {
   "cell_type": "code",
   "execution_count": 15,
   "id": "0b2d3ea4",
   "metadata": {},
   "outputs": [
    {
     "name": "stdout",
     "output_type": "stream",
     "text": [
      "a=10\n",
      "b=11\n",
      "21\n",
      "21\n",
      "420\n"
     ]
    }
   ],
   "source": [
    "rohit()"
   ]
  },
  {
   "cell_type": "code",
   "execution_count": 3,
   "id": "251d6ace",
   "metadata": {},
   "outputs": [],
   "source": [
    "class person():\n",
    "    def tab(self):\n",
    "        self.a=2\n",
    "        self.b=3\n",
    "    def show(self,c):\n",
    "        for x in range(c):\n",
    "            print(\"data science\")\n",
    "            print(self.a+self.b)\n",
    "            "
   ]
  },
  {
   "cell_type": "code",
   "execution_count": 10,
   "id": "5274a99c",
   "metadata": {},
   "outputs": [
    {
     "name": "stdout",
     "output_type": "stream",
     "text": [
      "data science\n",
      "5\n",
      "data science\n",
      "5\n",
      "data science\n",
      "5\n",
      "data science\n",
      "5\n",
      "data science\n",
      "5\n"
     ]
    }
   ],
   "source": [
    "p1=person()\n",
    "p1.tab()\n",
    "p1.show(5)"
   ]
  },
  {
   "cell_type": "code",
   "execution_count": 11,
   "id": "73f43279",
   "metadata": {},
   "outputs": [
    {
     "ename": "SyntaxError",
     "evalue": "invalid syntax (706675035.py, line 13)",
     "output_type": "error",
     "traceback": [
      "\u001b[1;36m  Input \u001b[1;32mIn [11]\u001b[1;36m\u001b[0m\n\u001b[1;33m    g.append(h)\u001b[0m\n\u001b[1;37m    ^\u001b[0m\n\u001b[1;31mSyntaxError\u001b[0m\u001b[1;31m:\u001b[0m invalid syntax\n"
     ]
    }
   ],
   "source": [
    "class tushar():\n",
    "    def rohit(self,a):\n",
    "        c=[]\n",
    "        for x in range(a):\n",
    "            e=input(\"enter student name=\")\n",
    "            c.append(e)\n",
    "            return c\n",
    "    def kiran(self,b):\n",
    "        g=[]\n",
    "        h=rohit()\n",
    "        for x in range(b):\n",
    "            d=int(input(\"enter marks\")\n",
    "            g.append(h)\n",
    "            g.append(d)\n",
    "        total=sum(h)\n",
    "        avg=total/b\n",
    "        print(g)\n",
    "        print(avg)\n",
    "        \n",
    "            \n",
    "        \n",
    "        "
   ]
  },
  {
   "cell_type": "code",
   "execution_count": 1,
   "id": "61235ca7",
   "metadata": {},
   "outputs": [],
   "source": [
    "city=[\"pune\",\"mumbai\",\"nagpur\"]\n",
    "# z=city\n",
    "# z=input(\"enter your city \")\n",
    "for x in city:\n",
    "    if x==city:\n",
    "        z=input(\"enter your city \")\n",
    "        for x in range(2):\n",
    "            c=[]\n",
    "            a=input(\"student name=\")\n",
    "            for y in range(3):\n",
    "                b=int(input(\" marks=\"))\n",
    "                c.append(b)\n",
    "            total=sum(c)\n",
    "            avg=total/3\n",
    "            print(\"total marks=\",total)\n",
    "            print(\"average=\",avg)\n",
    "            c.clear\n",
    "    elif x==city:\n",
    "        z=input(\"enter your city \")\n",
    "        for x in range(3):\n",
    "            c=[]\n",
    "            a=input(\"student name=\")\n",
    "            for y in range(3):\n",
    "                b=int(input(\" marks=\"))\n",
    "                c.append(b)\n",
    "            total=sum(c)\n",
    "            avg=total/3\n",
    "            print(\"total marks=\",total)\n",
    "            print(\"average=\",avg)\n",
    "    elif x==city:\n",
    "        z=input(\"enter your city \")\n",
    "        for x in range(4):\n",
    "            c=[]\n",
    "            a=input(\"student name=\")\n",
    "            for y in range(3):\n",
    "                b=int(input(\" marks=\"))\n",
    "                c.append(b)\n",
    "            total=sum(c)\n",
    "            avg=total/3\n",
    "            print(\"total marks=\",total)\n",
    "            print(\"average=\",avg)\n",
    "            \n",
    "        \n",
    "        \n",
    "            "
   ]
  },
  {
   "cell_type": "code",
   "execution_count": null,
   "id": "d9c50c9c",
   "metadata": {},
   "outputs": [],
   "source": [
    "city=[\"pune\",\"mumbai\",\"nagpur\"]\n",
    "for x in city:\n",
    "    b=input(\"enter your city: \")\n",
    "    a=int(input(\"no. of students=\"))\n",
    "    for x in range(0,a):\n",
    "        g=input(\"student name=\")\n",
    "        d=[]\n",
    "        for y in range(3):\n",
    "            h=int(input(\"enter the marks \"))\n",
    "            d.append(h)\n",
    "        e=sum(d)\n",
    "        total=e\n",
    "        avg=total/3\n",
    "        print(\"total is \",total)\n",
    "        print(\"average is \",avg)\n",
    "        print(\"-------------------------\")\n",
    "        "
   ]
  },
  {
   "cell_type": "code",
   "execution_count": null,
   "id": "a1339769",
   "metadata": {},
   "outputs": [],
   "source": []
  }
 ],
 "metadata": {
  "kernelspec": {
   "display_name": "Python 3 (ipykernel)",
   "language": "python",
   "name": "python3"
  },
  "language_info": {
   "codemirror_mode": {
    "name": "ipython",
    "version": 3
   },
   "file_extension": ".py",
   "mimetype": "text/x-python",
   "name": "python",
   "nbconvert_exporter": "python",
   "pygments_lexer": "ipython3",
   "version": "3.9.12"
  }
 },
 "nbformat": 4,
 "nbformat_minor": 5
}
