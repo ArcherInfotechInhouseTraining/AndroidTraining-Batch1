{
 "cells": [
  {
   "cell_type": "code",
   "execution_count": 6,
   "id": "33ee5912",
   "metadata": {},
   "outputs": [
    {
     "name": "stdout",
     "output_type": "stream",
     "text": [
      "tushar\n"
     ]
    }
   ],
   "source": [
    "def person():\n",
    "    print(\"tushar\")\n",
    "person()"
   ]
  },
  {
   "cell_type": "code",
   "execution_count": 7,
   "id": "76bee4dd",
   "metadata": {},
   "outputs": [],
   "source": [
    "def school():\n",
    "    a=int(input(\"enter the first value\"))\n",
    "    b=int(input(\"enter the second value\"))\n",
    "    print(a+b)"
   ]
  },
  {
   "cell_type": "code",
   "execution_count": 8,
   "id": "776bfc5c",
   "metadata": {},
   "outputs": [
    {
     "name": "stdout",
     "output_type": "stream",
     "text": [
      "enter the first value50\n",
      "enter the second value50\n",
      "100\n"
     ]
    }
   ],
   "source": [
    "school()"
   ]
  },
  {
   "cell_type": "code",
   "execution_count": 1,
   "id": "6c6d4590",
   "metadata": {},
   "outputs": [],
   "source": [
    "def school(a,b=20):\n",
    "    print(a+b)"
   ]
  },
  {
   "cell_type": "code",
   "execution_count": 2,
   "id": "c21fb7d5",
   "metadata": {},
   "outputs": [
    {
     "ename": "NameError",
     "evalue": "name 'b' is not defined",
     "output_type": "error",
     "traceback": [
      "\u001b[1;31m---------------------------------------------------------------------------\u001b[0m",
      "\u001b[1;31mNameError\u001b[0m                                 Traceback (most recent call last)",
      "Input \u001b[1;32mIn [2]\u001b[0m, in \u001b[0;36m<cell line: 2>\u001b[1;34m()\u001b[0m\n\u001b[0;32m      1\u001b[0m a\u001b[38;5;241m=\u001b[39m\u001b[38;5;241m20\u001b[39m\n\u001b[1;32m----> 2\u001b[0m school(a,\u001b[43mb\u001b[49m)\n",
      "\u001b[1;31mNameError\u001b[0m: name 'b' is not defined"
     ]
    }
   ],
   "source": [
    "a=20\n",
    "school(a,b)"
   ]
  },
  {
   "cell_type": "code",
   "execution_count": 1,
   "id": "d2bfb524",
   "metadata": {},
   "outputs": [],
   "source": [
    "def mouse():\n",
    "    a=3\n",
    "    b=4\n",
    "    c=a+b\n",
    "    print(c)\n",
    "    return c"
   ]
  },
  {
   "cell_type": "code",
   "execution_count": 2,
   "id": "7f923f8f",
   "metadata": {},
   "outputs": [],
   "source": [
    "def keys_value():\n",
    "    l1=[]\n",
    "    ab=mouse()\n",
    "    for x in range(ab):\n",
    "        print(\"data science...\",x)\n",
    "        l1.append(x)\n",
    "    print(type(l1))\n",
    "    return l1"
   ]
  },
  {
   "cell_type": "code",
   "execution_count": 3,
   "id": "6537aa4b",
   "metadata": {},
   "outputs": [],
   "source": [
    "def mobile():\n",
    "    k1=keys_value()\n",
    "    total=sum(k1)\n",
    "    print(\"this is my total\",total)"
   ]
  },
  {
   "cell_type": "code",
   "execution_count": null,
   "id": "b4b185bd",
   "metadata": {},
   "outputs": [],
   "source": [
    "# global details\n",
    "details=[]\n",
    "def textbook(n):\n",
    "  b_price=[]\n",
    "  for x in range(n):\n",
    "    name=input(\"book name:\")\n",
    "    price=int(input(\"book price:\"))\n",
    "    details.append(name)\n",
    "    details.append(\":\")\n",
    "    details.append(price)\n",
    "    b_price.append(price)\n",
    "  return b_price\n",
    "\n",
    "def amount():\n",
    "  b_updated=[]\n",
    "  am=textbook(3)\n",
    "  for x in am:\n",
    "    x=x+0\n",
    "    b_updated.append(x)\n",
    "  total=sum(b_updated)\n",
    "  gst=total*18/100\n",
    "  g_total=gst+total\n",
    "  details.append(\"sub total:\")\n",
    "  details.append(total)\n",
    "  details.append(\"gst ammount:\")\n",
    "  details.append(gst)\n",
    "  details.append(\"final bill:\")\n",
    "  details.append(g_total)\n",
    "  print(\"final details of customer:\",details)"
   ]
  },
  {
   "cell_type": "code",
   "execution_count": 3,
   "id": "158c5a70",
   "metadata": {},
   "outputs": [
    {
     "name": "stdout",
     "output_type": "stream",
     "text": [
      "items:2\n",
      "book name:s\n",
      "book price:100\n",
      "book name:j\n",
      "book price:100\n",
      "final details:  ['s', ':', 100, 'j', ':', 100, 'total: ', 200, 'gst ammount: ', 36.0, 'final bill: ', 236.0]\n"
     ]
    }
   ],
   "source": [
    "# global details\n",
    "details=[]\n",
    "def textbook(n):\n",
    "  b_price=[]\n",
    "  for x in range(n):\n",
    "    name=input(\"book name:\")\n",
    "    price=int(input(\"book price:\"))\n",
    "    details.append(name)\n",
    "    details.append(\":\")\n",
    "    details.append(price)\n",
    "    b_price.append(price)\n",
    "  return b_price\n",
    "am=textbook(int(input(\"items:\")))\n",
    "c=[]\n",
    "for x in am:\n",
    " c.append(x)\n",
    " total=sum(c)\n",
    "gst=total*18/100\n",
    "g_total=gst+total\n",
    "details.append(\"total: \")\n",
    "details.append(total)\n",
    "details.append(\"gst ammount: \")\n",
    "details.append(gst)\n",
    "details.append(\"final bill: \")\n",
    "details.append(g_total)\n",
    "print(\"final details: \",details)"
   ]
  },
  {
   "cell_type": "code",
   "execution_count": 20,
   "id": "730cee0c",
   "metadata": {},
   "outputs": [
    {
     "data": {
      "text/plain": [
       "['pune', 'nagpur']"
      ]
     },
     "execution_count": 20,
     "metadata": {},
     "output_type": "execute_result"
    }
   ],
   "source": [
    "a=[\"pune\",\"mumbai\",\"pune\",\"nagpur\"]\n",
    "a.remove(\"mumbai\")\n",
    "a.remove(\"pune\")\n",
    "a"
   ]
  },
  {
   "cell_type": "code",
   "execution_count": null,
   "id": "fb5dcfe8",
   "metadata": {},
   "outputs": [],
   "source": [
    "a={\"pune\",\"mumbai\",\"pune\",\"nagpur\"}\n",
    "b={\"solapur\",\"\"}"
   ]
  },
  {
   "cell_type": "code",
   "execution_count": 35,
   "id": "5a4b1050",
   "metadata": {},
   "outputs": [
    {
     "name": "stdout",
     "output_type": "stream",
     "text": [
      "boys hostel= ['tushar', 'rohit', 'kiran']\n",
      "girls hostel= ['komal', 'priyanka', 'sonali']\n"
     ]
    }
   ],
   "source": [
    "name=[\"tushar\",\"rohit\",\"komal\",\"kiran\",\"shradha\",\"priyanka\",\"saurabh\",\"sonali\"]\n",
    "boys=[\"tushar\",\"rohit\",\"kiran\"]\n",
    "girls=[\"komal\",\"priyanka\",\"sonali\"]\n",
    "boys_hostel=[]\n",
    "girls_hostel=[]\n",
    "for x in name:\n",
    "    if x in boys:\n",
    "        boys_hostel.append(x)\n",
    "    elif x in girls:\n",
    "        girls_hostel.append(x)\n",
    "print(\"boys hostel=\",boys_hostel)\n",
    "print(\"girls hostel=\",girls_hostel)"
   ]
  },
  {
   "cell_type": "code",
   "execution_count": 38,
   "id": "cfde2794",
   "metadata": {},
   "outputs": [
    {
     "name": "stdout",
     "output_type": "stream",
     "text": [
      "boys hostel= ['tushar', 'rohit', 'kiran']\n",
      "girls hostel= ['komal', 'priyanka', 'sonali']\n",
      "others= ['shradha', 'saurabh']\n"
     ]
    }
   ],
   "source": [
    "name=[\"tushar\",\"rohit\",\"komal\",\"kiran\",\"shradha\",\"priyanka\",\"saurabh\",\"sonali\"]\n",
    "boys=[\"tushar\",\"rohit\",\"kiran\"]\n",
    "girls=[\"komal\",\"priyanka\",\"sonali\"]\n",
    "boys_hostel=[]\n",
    "girls_hostel=[]\n",
    "others_1=[]\n",
    "for x in name:\n",
    "    if x in boys:\n",
    "        boys_hostel.append(x)\n",
    "    elif x in girls:\n",
    "        girls_hostel.append(x)\n",
    "    elif x in name:\n",
    "        others_1.append(x)\n",
    "print(\"boys hostel=\",boys_hostel)\n",
    "print(\"girls hostel=\",girls_hostel)\n",
    "print(\"others=\",others_1)"
   ]
  },
  {
   "cell_type": "code",
   "execution_count": 5,
   "id": "00bca99c",
   "metadata": {},
   "outputs": [
    {
     "name": "stdout",
     "output_type": "stream",
     "text": [
      "boys hostel=  ['tushar', 'rohit', 'kiran']\n"
     ]
    }
   ],
   "source": [
    "name=[\"tushar\",\"rohit\",\"komal\",\"kiran\",\"shradha\",\"priyanka\",\"saurabh\",\"sonali\"]\n",
    "boys=[\"tushar\",\"rohit\",\"kiran\"]\n",
    "# girls=[\"rohit\",\"priyanka\",\"kiran\"]\n",
    "boys_hostel=[]\n",
    "girls_hostel=[]\n",
    "others_1=[]\n",
    "for x in name:\n",
    "    if x in boys:\n",
    "        boys_hostel.append(x)\n",
    "print(\"boys hostel= \",boys_hostel)        "
   ]
  },
  {
   "cell_type": "code",
   "execution_count": null,
   "id": "d844d32d",
   "metadata": {},
   "outputs": [],
   "source": [
    "\n",
    "    "
   ]
  }
 ],
 "metadata": {
  "kernelspec": {
   "display_name": "Python 3 (ipykernel)",
   "language": "python",
   "name": "python3"
  },
  "language_info": {
   "codemirror_mode": {
    "name": "ipython",
    "version": 3
   },
   "file_extension": ".py",
   "mimetype": "text/x-python",
   "name": "python",
   "nbconvert_exporter": "python",
   "pygments_lexer": "ipython3",
   "version": "3.9.12"
  }
 },
 "nbformat": 4,
 "nbformat_minor": 5
}
