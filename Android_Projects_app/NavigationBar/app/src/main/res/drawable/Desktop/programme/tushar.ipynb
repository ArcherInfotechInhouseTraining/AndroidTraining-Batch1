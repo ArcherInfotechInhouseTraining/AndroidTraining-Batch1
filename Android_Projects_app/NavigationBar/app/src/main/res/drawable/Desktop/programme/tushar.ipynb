{
 "cells": [
  {
   "cell_type": "code",
   "execution_count": 2,
   "id": "9af6509e",
   "metadata": {
    "scrolled": true
   },
   "outputs": [
    {
     "name": "stdout",
     "output_type": "stream",
     "text": [
      "number of students= 2\n",
      "-----------------------------------------\n",
      "name of student lkjhg\n",
      "______________________________________\n",
      "number of subjects= 2\n",
      "name of subject mat\n",
      "total marks (out of 100) = 50\n",
      "....................................\n",
      "name of subject lkjh\n",
      "total marks (out of 100) = 50\n",
      "....................................\n",
      "percentage of lkjhg = 50.0\n",
      "==============next student==============\n",
      "name of student gikd\n",
      "______________________________________\n",
      "number of subjects= 2\n",
      "name of subject lkjgf\n",
      "total marks (out of 100) = 50\n",
      "....................................\n",
      "name of subject klgd4\n",
      "total marks (out of 100) = 50\n",
      "....................................\n",
      "percentage of gikd = 50.0\n",
      "==============next student==============\n"
     ]
    }
   ],
   "source": [
    "a=int(input(\"number of students= \"))\n",
    "print(\"-----------------------------------------\")\n",
    "for x in range(0,a):\n",
    " d=[]   \n",
    " g=input(\"name of student \")\n",
    " print(\"______________________________________\")\n",
    " b=int(input(\"number of subjects= \"))\n",
    " for y in range(0,b):\n",
    "        input(\"name of subject \")\n",
    "        c=int(input(\"total marks (out of 100) = \"))\n",
    "        print(\"....................................\")\n",
    "        d.append(c)\n",
    " e=sum(d)\n",
    " f=e/b\n",
    " print(\"percentage of\",g,\"=\",f)\n",
    " print(\"==============next student==============\")"
   ]
  },
  {
   "cell_type": "code",
   "execution_count": 2,
   "id": "3adcbe0c",
   "metadata": {},
   "outputs": [
    {
     "ename": "TypeError",
     "evalue": "'int' object is not iterable",
     "output_type": "error",
     "traceback": [
      "\u001b[1;31m---------------------------------------------------------------------------\u001b[0m",
      "\u001b[1;31mTypeError\u001b[0m                                 Traceback (most recent call last)",
      "Input \u001b[1;32mIn [2]\u001b[0m, in \u001b[0;36m<cell line: 1>\u001b[1;34m()\u001b[0m\n\u001b[1;32m----> 1\u001b[0m \u001b[38;5;28;43msum\u001b[39;49m\u001b[43m(\u001b[49m\u001b[38;5;241;43m5\u001b[39;49m\u001b[43m,\u001b[49m\u001b[38;5;241;43m10\u001b[39;49m\u001b[43m)\u001b[49m\n",
      "\u001b[1;31mTypeError\u001b[0m: 'int' object is not iterable"
     ]
    }
   ],
   "source": []
  },
  {
   "cell_type": "code",
   "execution_count": null,
   "id": "7eb92ef1",
   "metadata": {},
   "outputs": [],
   "source": []
  }
 ],
 "metadata": {
  "kernelspec": {
   "display_name": "Python 3 (ipykernel)",
   "language": "python",
   "name": "python3"
  },
  "language_info": {
   "codemirror_mode": {
    "name": "ipython",
    "version": 3
   },
   "file_extension": ".py",
   "mimetype": "text/x-python",
   "name": "python",
   "nbconvert_exporter": "python",
   "pygments_lexer": "ipython3",
   "version": "3.9.12"
  }
 },
 "nbformat": 4,
 "nbformat_minor": 5
}
