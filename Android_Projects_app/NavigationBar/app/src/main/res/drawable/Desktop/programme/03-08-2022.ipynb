{
 "cells": [
  {
   "cell_type": "code",
   "execution_count": 1,
   "id": "ff5282de",
   "metadata": {},
   "outputs": [
    {
     "name": "stdout",
     "output_type": "stream",
     "text": [
      "('pune', 'pune', 'mumbai', 'nagpur', 'kolhapur')\n"
     ]
    }
   ],
   "source": [
    "city=(\"pune\",\"pune\",\"mumbai\",\"nagpur\",\"kolhapur\")\n",
    "print(city)\n"
   ]
  },
  {
   "cell_type": "code",
   "execution_count": 4,
   "id": "e26ba852",
   "metadata": {},
   "outputs": [
    {
     "name": "stdout",
     "output_type": "stream",
     "text": [
      "('pune', 'pune', 'mumbai', 'nagpur')\n"
     ]
    }
   ],
   "source": [
    "city=(\"pune\",\"pune\",\"mumbai\",\"nagpur\",\"kolhapur\")\n",
    "print(city[-5:4])"
   ]
  },
  {
   "cell_type": "code",
   "execution_count": 5,
   "id": "e2b321d9",
   "metadata": {},
   "outputs": [
    {
     "ename": "AttributeError",
     "evalue": "'tuple' object has no attribute 'remove'",
     "output_type": "error",
     "traceback": [
      "\u001b[1;31m---------------------------------------------------------------------------\u001b[0m",
      "\u001b[1;31mAttributeError\u001b[0m                            Traceback (most recent call last)",
      "Input \u001b[1;32mIn [5]\u001b[0m, in \u001b[0;36m<cell line: 2>\u001b[1;34m()\u001b[0m\n\u001b[0;32m      1\u001b[0m city\u001b[38;5;241m=\u001b[39m(\u001b[38;5;124m\"\u001b[39m\u001b[38;5;124mpune\u001b[39m\u001b[38;5;124m\"\u001b[39m,\u001b[38;5;124m\"\u001b[39m\u001b[38;5;124mpune\u001b[39m\u001b[38;5;124m\"\u001b[39m,\u001b[38;5;124m\"\u001b[39m\u001b[38;5;124mmumbai\u001b[39m\u001b[38;5;124m\"\u001b[39m,\u001b[38;5;124m\"\u001b[39m\u001b[38;5;124mnagpur\u001b[39m\u001b[38;5;124m\"\u001b[39m,\u001b[38;5;124m\"\u001b[39m\u001b[38;5;124mkolhapur\u001b[39m\u001b[38;5;124m\"\u001b[39m)\n\u001b[1;32m----> 2\u001b[0m \u001b[43mcity\u001b[49m\u001b[38;5;241;43m.\u001b[39;49m\u001b[43mremove\u001b[49m(\u001b[38;5;124m\"\u001b[39m\u001b[38;5;124mpune\u001b[39m\u001b[38;5;124m\"\u001b[39m)\n\u001b[0;32m      3\u001b[0m city\n",
      "\u001b[1;31mAttributeError\u001b[0m: 'tuple' object has no attribute 'remove'"
     ]
    }
   ],
   "source": [
    "city=(\"pune\",\"pune\",\"mumbai\",\"nagpur\",\"kolhapur\")\n",
    "city.remove(\"pune\")\n",
    "city"
   ]
  },
  {
   "cell_type": "code",
   "execution_count": 8,
   "id": "e480bd9b",
   "metadata": {},
   "outputs": [
    {
     "name": "stdout",
     "output_type": "stream",
     "text": [
      "('pune', 'pune', 'mumbai', 'nagpur', 'kolhapur', 'satara', 'sangali', 'nanded')\n"
     ]
    }
   ],
   "source": [
    "city=(\"pune\",\"pune\",\"mumbai\",\"nagpur\",\"kolhapur\")\n",
    "city1=(\"satara\",\"sangali\",\"nanded\")\n",
    "print(city+city1)"
   ]
  },
  {
   "cell_type": "code",
   "execution_count": 14,
   "id": "66a817ae",
   "metadata": {},
   "outputs": [
    {
     "name": "stdout",
     "output_type": "stream",
     "text": [
      "<class 'tuple'>\n"
     ]
    }
   ],
   "source": [
    "city=(\"pune\",\"pune\",\"mumbai\",\"nagpur\",\"kolhapur\")\n",
    "print(type(city))"
   ]
  },
  {
   "cell_type": "code",
   "execution_count": 15,
   "id": "f828ee3f",
   "metadata": {},
   "outputs": [
    {
     "name": "stdout",
     "output_type": "stream",
     "text": [
      "<class 'set'>\n",
      "4\n"
     ]
    }
   ],
   "source": [
    "city={\"pune\",\"pune\",\"mumbai\",\"nagpur\",\"kolhapur\"}\n",
    "print(type(city))\n",
    "print(len(city))"
   ]
  },
  {
   "cell_type": "code",
   "execution_count": 23,
   "id": "e9b84323",
   "metadata": {},
   "outputs": [
    {
     "name": "stdout",
     "output_type": "stream",
     "text": [
      "{'pune', 'kolhapur', 'nagpur', 'mumbai'}\n"
     ]
    }
   ],
   "source": [
    "city={\"pune\",\"pune\",\"mumbai\",\"nagpur\",\"kolhapur\"}\n",
    "print(city)"
   ]
  },
  {
   "cell_type": "code",
   "execution_count": 25,
   "id": "2d40db40",
   "metadata": {},
   "outputs": [
    {
     "data": {
      "text/plain": [
       "{'kolhapur', 'mumbai', 'nagpur'}"
      ]
     },
     "execution_count": 25,
     "metadata": {},
     "output_type": "execute_result"
    }
   ],
   "source": [
    "city={\"pune\",\"pune\",\"mumbai\",\"nagpur\",\"kolhapur\"}\n",
    "city.pop()\n",
    "city"
   ]
  },
  {
   "cell_type": "code",
   "execution_count": 30,
   "id": "dc9b877c",
   "metadata": {},
   "outputs": [
    {
     "data": {
      "text/plain": [
       "{'kolhapur', 'mumbai', 'nagpur', 'pune', 'solapur'}"
      ]
     },
     "execution_count": 30,
     "metadata": {},
     "output_type": "execute_result"
    }
   ],
   "source": [
    "city={\"pune\",\"pune\",\"mumbai\",\"nagpur\",\"kolhapur\"}\n",
    "city.add(\"solapur\")\n",
    "city"
   ]
  },
  {
   "cell_type": "code",
   "execution_count": 31,
   "id": "626cafc7",
   "metadata": {},
   "outputs": [
    {
     "name": "stdout",
     "output_type": "stream",
     "text": [
      "kolhapur\n",
      "nagpur\n",
      "pune\n",
      "solapur\n",
      "mumbai\n"
     ]
    }
   ],
   "source": [
    "for x in city:\n",
    "    print(x)"
   ]
  },
  {
   "cell_type": "code",
   "execution_count": 35,
   "id": "0598939b",
   "metadata": {},
   "outputs": [
    {
     "name": "stdout",
     "output_type": "stream",
     "text": [
      "{'name': ['rohit', 'kiran'], 'city': ['tembhurni', 'indapur'], 'email': ['ab', 'cd']}\n"
     ]
    }
   ],
   "source": [
    "school={\n",
    "    \"name\":[\"rohit\",\"kiran\"],\n",
    "    \"city\":[\"tembhurni\",\"indapur\"],\n",
    "    \"email\":[\"ab\",\"cd\"]\n",
    "}\n",
    "print(school)"
   ]
  },
  {
   "cell_type": "code",
   "execution_count": 37,
   "id": "10071d87",
   "metadata": {},
   "outputs": [
    {
     "name": "stdout",
     "output_type": "stream",
     "text": [
      "{'name': ['rohit', 'kiran'], 'city': ['tembhurni', 'indapur'], 'email': ['ab', 'cd'], 'laptop': ['hp', 'hp']}\n"
     ]
    }
   ],
   "source": [
    "school[\"laptop\"]=[\"hp\",\"hp\"]\n",
    "print(school)"
   ]
  },
  {
   "cell_type": "code",
   "execution_count": 38,
   "id": "2da5105d",
   "metadata": {},
   "outputs": [
    {
     "data": {
      "text/plain": [
       "{'name': ['rohit', 'kiran'],\n",
       " 'city': ['tembhurni', 'indapur'],\n",
       " 'laptop': ['hp', 'hp']}"
      ]
     },
     "execution_count": 38,
     "metadata": {},
     "output_type": "execute_result"
    }
   ],
   "source": [
    "del school[\"email\"]\n",
    "school"
   ]
  },
  {
   "cell_type": "code",
   "execution_count": 39,
   "id": "b821f181",
   "metadata": {},
   "outputs": [
    {
     "name": "stdout",
     "output_type": "stream",
     "text": [
      "name\n",
      "city\n",
      "email\n"
     ]
    }
   ],
   "source": [
    "school={\n",
    "    \"name\":[\"rohit\",\"kiran\"],\n",
    "    \"city\":[\"tembhurni\",\"indapur\"],\n",
    "    \"email\":[\"ab\",\"cd\"]\n",
    "}\n",
    "for x in school:\n",
    "    print(x)"
   ]
  },
  {
   "cell_type": "code",
   "execution_count": 41,
   "id": "fae792d2",
   "metadata": {},
   "outputs": [
    {
     "name": "stdout",
     "output_type": "stream",
     "text": [
      "['rohit', 'kiran']\n",
      "['tembhurni', 'indapur']\n",
      "['ab', 'cd']\n"
     ]
    }
   ],
   "source": [
    "school={\n",
    "    \"name\":[\"rohit\",\"kiran\"],\n",
    "    \"city\":[\"tembhurni\",\"indapur\"],\n",
    "    \"email\":[\"ab\",\"cd\"]\n",
    "}\n",
    "for x in school.values():\n",
    "    print(x)"
   ]
  },
  {
   "cell_type": "code",
   "execution_count": 42,
   "id": "e5f81364",
   "metadata": {},
   "outputs": [
    {
     "name": "stdout",
     "output_type": "stream",
     "text": [
      "name\n",
      "city\n",
      "email\n"
     ]
    }
   ],
   "source": [
    "school={\n",
    "    \"name\":[\"rohit\",\"kiran\"],\n",
    "    \"city\":[\"tembhurni\",\"indapur\"],\n",
    "    \"email\":[\"ab\",\"cd\"]\n",
    "}\n",
    "for x in school.keys():\n",
    "    print(x)"
   ]
  },
  {
   "cell_type": "code",
   "execution_count": 43,
   "id": "1d1e8b40",
   "metadata": {},
   "outputs": [
    {
     "name": "stdout",
     "output_type": "stream",
     "text": [
      "('name', ['rohit', 'kiran'])\n",
      "('city', ['tembhurni', 'indapur'])\n",
      "('email', ['ab', 'cd'])\n"
     ]
    }
   ],
   "source": [
    "school={\n",
    "    \"name\":[\"rohit\",\"kiran\"],\n",
    "    \"city\":[\"tembhurni\",\"indapur\"],\n",
    "    \"email\":[\"ab\",\"cd\"]\n",
    "}\n",
    "for x in school.items():\n",
    "    print(x)"
   ]
  },
  {
   "cell_type": "code",
   "execution_count": null,
   "id": "b2ff37da",
   "metadata": {},
   "outputs": [],
   "source": []
  }
 ],
 "metadata": {
  "kernelspec": {
   "display_name": "Python 3 (ipykernel)",
   "language": "python",
   "name": "python3"
  },
  "language_info": {
   "codemirror_mode": {
    "name": "ipython",
    "version": 3
   },
   "file_extension": ".py",
   "mimetype": "text/x-python",
   "name": "python",
   "nbconvert_exporter": "python",
   "pygments_lexer": "ipython3",
   "version": "3.9.12"
  }
 },
 "nbformat": 4,
 "nbformat_minor": 5
}
